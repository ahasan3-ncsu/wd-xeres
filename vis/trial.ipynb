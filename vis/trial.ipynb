{
 "cells": [
  {
   "cell_type": "code",
   "execution_count": 1,
   "id": "9cd6eaba-ad0d-49b7-942e-5ec6e6503a7e",
   "metadata": {},
   "outputs": [],
   "source": [
    "from ovito.io import import_file\n",
    "from ovito.modifiers import *"
   ]
  },
  {
   "cell_type": "code",
   "execution_count": 2,
   "id": "1adf1e0c-e7e4-4589-ac15-8693364d57db",
   "metadata": {},
   "outputs": [],
   "source": [
    "pipeline = import_file('dumpSpike.15ang30off_4')\n",
    "n_frames = pipeline.source.num_frames"
   ]
  },
  {
   "cell_type": "code",
   "execution_count": 3,
   "id": "1e2f82f5-5e8b-45b6-8308-53072d1aa415",
   "metadata": {},
   "outputs": [],
   "source": [
    "pipeline.modifiers.append(ExpressionSelectionModifier(\n",
    "    expression='ParticleType!=3'))\n",
    "pipeline.modifiers.append(DeleteSelectedModifier())\n",
    "pipeline.modifiers.append(ClusterAnalysisModifier(\n",
    "    cutoff=10,\n",
    "    sort_by_size=True,\n",
    "    compute_com=True))"
   ]
  },
  {
   "cell_type": "code",
   "execution_count": 4,
   "id": "e18c5087-a7aa-4b45-93fb-96ade524c630",
   "metadata": {},
   "outputs": [],
   "source": [
    "data_begin = pipeline.compute(0)\n",
    "ctab_begin = data_begin.tables['clusters']\n",
    "bub_ini = ctab_begin['Cluster Size'][...][0]\n",
    "pos_ini = ctab_begin['Center of Mass'][...][0]"
   ]
  },
  {
   "cell_type": "code",
   "execution_count": 5,
   "id": "46005ffa-159d-49b7-8e32-d6b613a34970",
   "metadata": {},
   "outputs": [],
   "source": [
    "data_end = pipeline.compute(n_frames-1)\n",
    "ctab_end = data_end.tables['clusters']\n",
    "bub_fin = ctab_end['Cluster Size'][...][0]\n",
    "pos_fin = ctab_end['Center of Mass'][...][0]"
   ]
  },
  {
   "cell_type": "code",
   "execution_count": 6,
   "id": "705f60e8-1fa1-4f27-9260-e912a29666fc",
   "metadata": {},
   "outputs": [
    {
     "name": "stdout",
     "output_type": "stream",
     "text": [
      "3\n"
     ]
    }
   ],
   "source": [
    "res = bub_ini - bub_fin\n",
    "print(res)"
   ]
  },
  {
   "cell_type": "code",
   "execution_count": 7,
   "id": "d4a20972-139c-49f0-814a-e4ae43435cf9",
   "metadata": {},
   "outputs": [
    {
     "name": "stdout",
     "output_type": "stream",
     "text": [
      "33.18186680703306\n"
     ]
    }
   ],
   "source": [
    "dis2 = 0\n",
    "for i in range(3):\n",
    "   dis2 += (pos_fin[i] - pos_ini[i])**2 \n",
    "\n",
    "dis = dis2 ** 0.5\n",
    "print(dis)"
   ]
  }
 ],
 "metadata": {
  "kernelspec": {
   "display_name": "Python 3 (ipykernel)",
   "language": "python",
   "name": "python3"
  },
  "language_info": {
   "codemirror_mode": {
    "name": "ipython",
    "version": 3
   },
   "file_extension": ".py",
   "mimetype": "text/x-python",
   "name": "python",
   "nbconvert_exporter": "python",
   "pygments_lexer": "ipython3",
   "version": "3.11.6"
  }
 },
 "nbformat": 4,
 "nbformat_minor": 5
}
